{
  "nbformat": 4,
  "nbformat_minor": 0,
  "metadata": {
    "colab": {
      "provenance": []
    },
    "kernelspec": {
      "name": "python3",
      "display_name": "Python 3"
    },
    "language_info": {
      "name": "python"
    }
  },
  "cells": [
    {
      "cell_type": "code",
      "execution_count": 5,
      "metadata": {
        "id": "G03yOg3jPx35"
      },
      "outputs": [],
      "source": []
    },
    {
      "cell_type": "code",
      "source": [
        "import pandas as pd\n",
        "from sklearn.metrics.pairwise import cosine_similarity\n",
        "from sklearn.preprocessing import StandardScaler\n",
        "\n",
        "# Load datasets\n",
        "customers = pd.read_csv('Customers.csv')\n",
        "products = pd.read_csv('Products.csv')\n",
        "transactions = pd.read_csv('Transactions.csv')\n",
        "\n",
        "# Merge data to create a comprehensive dataset\n",
        "transactions = transactions.merge(products, on='ProductID')\n",
        "transactions = transactions.merge(customers, on='CustomerID')\n",
        "\n",
        "# Feature engineering: Aggregate transaction data by customer\n",
        "customer_features = transactions.groupby('CustomerID').agg(\n",
        "    total_spent=('TotalValue', 'sum'),\n",
        "    total_quantity=('Quantity', 'sum'),\n",
        "    unique_categories=('Category', lambda x: x.nunique()),\n",
        "    unique_products=('ProductID', 'nunique')\n",
        ").reset_index()\n",
        "\n",
        "# Add region as a categorical feature\n",
        "customer_features = customer_features.merge(customers[['CustomerID', 'Region']], on='CustomerID')\n",
        "customer_features = pd.get_dummies(customer_features, columns=['Region'], drop_first=True)\n",
        "\n",
        "# Normalize numerical features\n",
        "scaler = StandardScaler()\n",
        "numeric_features = ['total_spent', 'total_quantity', 'unique_categories', 'unique_products']\n",
        "customer_features[numeric_features] = scaler.fit_transform(customer_features[numeric_features])\n",
        "\n",
        "# Compute similarity matrix\n",
        "feature_matrix = customer_features.drop(columns=['CustomerID']).values\n",
        "similarity_matrix = cosine_similarity(feature_matrix)\n",
        "\n",
        "# Recommend top 3 lookalikes for the first 20 customers\n",
        "customer_ids = customer_features['CustomerID'].values\n",
        "lookalike_results = []\n",
        "\n",
        "for idx, customer_id in enumerate(customer_ids[:20]):\n",
        "    similarities = similarity_matrix[idx]\n",
        "    similar_indices = similarities.argsort()[::-1][1:4]  # Exclude the customer itself\n",
        "    lookalikes = [(customer_ids[i], similarities[i]) for i in similar_indices]\n",
        "    lookalike_results.append({\n",
        "        'CustomerID': customer_id,\n",
        "        'Lookalike1': lookalikes[0][0], 'Score1': lookalikes[0][1],\n",
        "        'Lookalike2': lookalikes[1][0], 'Score2': lookalikes[1][1],\n",
        "        'Lookalike3': lookalikes[2][0], 'Score3': lookalikes[2][1]\n",
        "    })\n",
        "\n",
        "# Save results to Lookalike.csv\n",
        "lookalike_df = pd.DataFrame(lookalike_results)\n",
        "lookalike_df.to_csv('Lookalike.csv', index=False)\n",
        "\n",
        "print(\"Lookalike Model completed. Results saved to 'Lookalike.csv'.\")"
      ],
      "metadata": {
        "colab": {
          "base_uri": "https://localhost:8080/"
        },
        "id": "m1lzCzlvS3HA",
        "outputId": "b7a0a532-f687-424c-b289-d911cb06a4b9"
      },
      "execution_count": 6,
      "outputs": [
        {
          "output_type": "stream",
          "name": "stdout",
          "text": [
            "Lookalike Model completed. Results saved to 'Lookalike.csv'.\n"
          ]
        }
      ]
    }
  ]
}